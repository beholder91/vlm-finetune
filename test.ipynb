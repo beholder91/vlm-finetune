{
 "cells": [
  {
   "cell_type": "code",
   "execution_count": 2,
   "metadata": {},
   "outputs": [],
   "source": [
    "import os\n",
    "os.environ[\"HF_ENDPOINT\"] = \"https://hf-mirror.com\""
   ]
  },
  {
   "cell_type": "code",
   "execution_count": 3,
   "metadata": {},
   "outputs": [],
   "source": [
    "from datasets import load_dataset\n",
    "\n",
    "# Login using e.g. `huggingface-cli login` to access this dataset\n",
    "ds = load_dataset(\"allenai/olmOCR-mix-0225\", \"00_documents\", split=\"train_s2pdf\")"
   ]
  },
  {
   "cell_type": "code",
   "execution_count": 16,
   "metadata": {},
   "outputs": [
    {
     "data": {
      "text/plain": [
       "dict_keys(['url', 'page_number', 'response', 'id'])"
      ]
     },
     "execution_count": 16,
     "metadata": {},
     "output_type": "execute_result"
    }
   ],
   "source": [
    "ds[0].keys()"
   ]
  },
  {
   "cell_type": "code",
   "execution_count": 3,
   "metadata": {},
   "outputs": [
    {
     "data": {
      "text/plain": [
       "'{\"primary_language\":\"en\",\"is_rotation_valid\":true,\"rotation_correction\":0,\"is_table\":false,\"is_diagram\":false,\"natural_text\":\"**Ethics approval and consent to participate**\\\\nThe study was conducted in accordance with the ethical principles of the Declaration of Helsinki (2013). Ethical approval was obtained from Sakhiya Skin Clinic, Surat, Gujarat, India. (Approval No: 2023/06). Consent forms were signed by patient. He was informed that he had the right to withdraw from the study at any time without any consequences. All pictures reported in this case-report study belong to Sakhiya Skin Clinic, Surat-395003, Gujarat, India.\\\\n\\\\n**Consent for publication**\\\\nNot applicable\\\\n\\\\n**Competing interest**\\\\nThe authors declare that they have no competing interests.\\\\n\\\\n**Open Access**\\\\nThis article is distributed under the terms of the Creative Commons Attribution 4.0 International License (http://creativecommons.org/licenses/by/4.0/), which permits unrestricted use, distribution, and reproduction in any medium, provided you give appropriate credit to the original author(s) and the source, provide a link to the Creative Commons license, and indicate if changes were made. The Creative Commons Public Domain Dedication waiver (http://creativecommons.org/publicdomain/zero/1.0/) applies to the data made available in this article unless otherwise stated.\\\\n\\\\n**Author Details**\\\\n1. Department of Dermatology, Sakhiya Skin Clinic, Surat, Gujarat, India.\\\\n2. Department of Medical Writing, Sakhiya Skin Clinic, Surat, Gujarat, India\\\\n\\\\n**Article Info**\\\\nReceived: 21 April 2023\\\\nAccepted: 03 June 2023\\\\nPublished: 07 June 2023\\\\n\\\\n**References**\\\\n1. Grando SA. Pemphigus autoimmunity: hypotheses and realities. Autoimmunity. 2012 Feb;45(1):7-35. doi: 10.3109/08916934.2011.606444.\\\\n2. Lever WF, Schaumburg-Lever G. Immunosuppressants and prednisone in pemphigus vulgaris: therapeutic results obtained in 63 patients between 1961 and 1975. Arch Dermatol. 1977 Sep;113(9):1236-41. doi: 10.1001/archderm.1977.01640090084013.\\\\n3. Pasricha JS, Gupta R. Pulse therapy with dexamethasone-cyclophosphamide in pemphigus. Indian J Dermatol Venereol Leprol. 1984; 50:199-203.\\\\n4. Bystryn JC, Steinman NM. The adjuvant therapy of pemphigus. An update. Arch Dermatol. 1996 Sep;132(2):203-12.\\\\n5. Heizmann M, Itin P, Wernli M, Borradori L, Bargetzi MJ. Successful treatment of paraneoplastic pemphigus in follicular NHL with rituximab: report of a case and review of treatment for paraneoplastic pemphigus in NHL and CLL. Am J Hematol. Feb 2001;66(2):142-4. doi: 10.1002/1096-8652(200102)66:2<142::AID-AJH1032>3.0.CO;2-0.\\\\n6. Food and Drug Administration. Rituxan label; 2012 [cited Feb 2, 2021]. Available from: http://www.accessdata.fda.gov/drugsatfda_docs/label/2012/103705s5373lbl.pdf.\\\\n7. Belgi AS, Azeez M, Hoyle C, Williams REA. Response of pemphigus vulgaris to anti-CD20 antibody therapy (rituximab) may be delayed. Clin Exp Dermatol. 2006 Jan;31(1):143. doi: 10.1111/j.1365-2230.2005.01941.x.\\\\n8. Schmidt E, Seitz CS, Benoit S, Bröcker EB, Goebeler M. Rituximab in autoimmune bullous diseases: mixed responses and adverse effects. Br J Dermatol. 2007 Feb;156(2):352-6. doi: 10.1111/j.1365-2133.2006.07646.x.\\\\n9. Barrera MV, Mendiola MV, Bosch RJ, Herrera E. Prolonged treatment with rituximab in patients with refractory pemphigus vulgaris. J Dermatolog Treat. 2007 Jan;18(5):312-4. doi: 10.1080/09546630701323988.\\\\n10. Faurschou A, Gniadecki R. Two courses of rituximab (anti-CD20 monoclonal antibody) for recalcitrant pemphigus vulgaris. Int J Dermatol. 2008 Mar;47(3):292-4. doi: 10.1111/j.1365-4632.2008.03423.x.\\\\n11. Craythorne EE, Mufti G, DuVivier AW. Rituximab used as a first-line single agent in the treatment of pemphigus vulgaris. J Am Acad Dermatol. 2011 Nov;65(5):1064-5. doi: 10.1016/j.jaad.2010.06.033.\\\\n12. Horváth B, Huizinga J, Pas HH, Mulder AB, Jonkman MF. Low-dose rituximab is effective in pemphigus. Br J Dermatol. 2012 Feb;166(2):405-12. doi: 10.1111/j.1365-2133.2011.10663.x.\\\\n13. Craythorne E, Du Viver A, Mufti GJ, Warnakulasuriya S. Rituximab for the treatment of corticosteroid—refractory pemphigus vulgaris with oral and skin manifestations. J Oral Pathol Med. 2011 Sep;40(8):616-20. doi: 10.1111/j.1600-0714.2011.01017.x.\\\\n14. Kim JH, Kim YH, Kim MR, Kim SC. Clinical efficacy of different doses of rituximab in the treatment of pemphigus: a retrospective study of 27 patients. Br J Dermatol. 2011Sep;165(3):646-51. doi: 10.1111/j.1365-2133.2011.10411.x.\\\\n15. Kasperkiewicz M, Shimanovich I, Ludwig RJ, Rose C, Zillikens D, Schmidt E. Rituximab for treatment-refractory pemphigus and pemphigoid: a case series of 17 patients. J Am Acad Dermatol. 2011 Sep;65(3):552-8. doi 10.1016/j.jaad.2010.07.032\\\\n16. Investor update. Basel; June 12, 2019. [cited Feb 5, 2021]. Available from: https://www.roche.com/investors/updates/inv-update-2019-06-12.htm.\"}'"
      ]
     },
     "execution_count": 3,
     "metadata": {},
     "output_type": "execute_result"
    }
   ],
   "source": [
    "ds[0][\"response\"]"
   ]
  },
  {
   "cell_type": "code",
   "execution_count": 6,
   "metadata": {},
   "outputs": [
    {
     "name": "stdout",
     "output_type": "stream",
     "text": [
      "https://jidhealth.com/index.php/jidhealth/article/download/286/169\n",
      "https://jidhealth.com/index.php/jidhealth/article/download/286/169\n",
      "https://jidhealth.com/index.php/jidhealth/article/download/286/169\n",
      "http://www.tara.tcd.ie/bitstream/handle/2262/80030/Robert%20Gaul_BINI2016.pdf?isAllowed=y&sequence=1\n",
      "http://www.math.vt.edu:80/people/powers/1224wkshts/10_Projectiles.pdf\n",
      "http://www.math.vt.edu:80/people/powers/1224wkshts/10_Projectiles.pdf\n",
      "http://www.math.vt.edu:80/people/powers/1224wkshts/10_Projectiles.pdf\n",
      "http://www-sop.inria.fr/asclepios/Publications/Erik.Pernod/Rapport_stage_3A.pdf\n",
      "http://www-sop.inria.fr/asclepios/Publications/Erik.Pernod/Rapport_stage_3A.pdf\n",
      "http://www-sop.inria.fr/asclepios/Publications/Erik.Pernod/Rapport_stage_3A.pdf\n",
      "https://alraidajournal.lau.edu.lb/images/issue014-page014.pdf\n",
      "https://ard.bmj.com/content/annrheumdis/73/3/536.full.pdf\n"
     ]
    }
   ],
   "source": [
    "for i, sample in enumerate(ds):\n",
    "    print(sample[\"url\"])\n",
    "    if i > 10:\n",
    "        break\n"
   ]
  }
 ],
 "metadata": {
  "kernelspec": {
   "display_name": "vllm",
   "language": "python",
   "name": "python3"
  },
  "language_info": {
   "codemirror_mode": {
    "name": "ipython",
    "version": 3
   },
   "file_extension": ".py",
   "mimetype": "text/x-python",
   "name": "python",
   "nbconvert_exporter": "python",
   "pygments_lexer": "ipython3",
   "version": "3.10.16"
  }
 },
 "nbformat": 4,
 "nbformat_minor": 2
}
